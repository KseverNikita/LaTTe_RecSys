{
 "cells": [
  {
   "cell_type": "code",
   "execution_count": 2,
   "metadata": {
    "colab": {
     "base_uri": "https://localhost:8080/"
    },
    "id": "lVoK_7xHdaa9",
    "outputId": "5068028f-6526-41db-ab84-9989d1f39bb0"
   },
   "outputs": [],
   "source": [
    "%%capture\n",
    "!pip install --no-cache-dir --upgrade git+https://github.com/evfro/polara.git@develop#egg=polara"
   ]
  },
  {
   "cell_type": "code",
   "execution_count": 1,
   "metadata": {
    "ExecuteTime": {
     "end_time": "2022-03-24T13:09:15.046481Z",
     "start_time": "2022-03-24T13:09:12.950323Z"
    },
    "id": "o_HJgdQFdSaf"
   },
   "outputs": [],
   "source": [
    "import numpy as np\n",
    "import pandas as pd\n",
    "from tqdm.notebook import tqdm\n",
    "\n",
    "import polara\n",
    "from polara import get_movielens_data\n",
    "from polara.preprocessing.dataframes import leave_one_out, reindex\n",
    "\n",
    "from dataprep import transform_indices\n",
    "from evaluation import topn_recommendations, model_evaluate, downvote_seen_items\n",
    "\n",
    "from polara.lib.tensor import hooi\n",
    "from polara.lib.sparse import tensor_outer_at\n",
    "from polara.evaluation.pipelines import random_grid\n",
    "\n",
    "from sa_hooi import sa_hooi, form_attention_matrix, get_scaling_weights, generate_position_projector\n",
    "\n",
    "from scipy.sparse import csr_matrix, diags\n",
    "from scipy.sparse.linalg import norm, svds\n",
    "\n",
    "from IPython.utils import io"
   ]
  },
  {
   "cell_type": "markdown",
   "metadata": {
    "id": "4NbP1tmBdSas"
   },
   "source": [
    "# Data preparation"
   ]
  },
  {
   "cell_type": "code",
   "execution_count": 2,
   "metadata": {
    "ExecuteTime": {
     "end_time": "2022-03-24T13:09:16.027655Z",
     "start_time": "2022-03-24T13:09:15.667366Z"
    },
    "id": "ALHEFY-2dSaw"
   },
   "outputs": [],
   "source": [
    "data = get_movielens_data('ml-1m.zip', include_time=True)"
   ]
  },
  {
   "cell_type": "markdown",
   "metadata": {
    "id": "YJOfzHI5dSaz"
   },
   "source": [
    "## Data splitting"
   ]
  },
  {
   "cell_type": "code",
   "execution_count": 3,
   "metadata": {
    "ExecuteTime": {
     "end_time": "2022-03-24T13:09:17.725223Z",
     "start_time": "2022-03-24T13:09:17.705224Z"
    },
    "id": "-Q3BKo7sdSa0"
   },
   "outputs": [],
   "source": [
    "test_timepoint = data['timestamp'].quantile(\n",
    "    q=0.9, interpolation='nearest'\n",
    ")"
   ]
  },
  {
   "cell_type": "code",
   "execution_count": 4,
   "metadata": {
    "ExecuteTime": {
     "end_time": "2022-03-24T13:09:18.237398Z",
     "start_time": "2022-03-24T13:09:18.213398Z"
    },
    "id": "LsUagg0JdSa1"
   },
   "outputs": [],
   "source": [
    "test_data_ = data.query('timestamp >= @test_timepoint')"
   ]
  },
  {
   "cell_type": "code",
   "execution_count": 5,
   "metadata": {
    "ExecuteTime": {
     "end_time": "2022-03-24T13:09:18.641416Z",
     "start_time": "2022-03-24T13:09:18.613431Z"
    },
    "colab": {
     "base_uri": "https://localhost:8080/"
    },
    "id": "y8MQIIlRdSa2",
    "outputId": "afdbf863-1b3f-4d46-ef63-84986f042bfd"
   },
   "outputs": [
    {
     "data": {
      "text/plain": [
       "userid        1209\n",
       "movieid       3407\n",
       "rating           5\n",
       "timestamp    63411\n",
       "dtype: int64"
      ]
     },
     "execution_count": 5,
     "metadata": {},
     "output_type": "execute_result"
    }
   ],
   "source": [
    "test_data_.nunique()"
   ]
  },
  {
   "cell_type": "code",
   "execution_count": 6,
   "metadata": {
    "ExecuteTime": {
     "end_time": "2022-03-24T13:09:19.353554Z",
     "start_time": "2022-03-24T13:09:19.297543Z"
    },
    "id": "Vw7NVv2odSa4"
   },
   "outputs": [],
   "source": [
    "train_data_ = data.query(\n",
    "    'userid not in @test_data_.userid.unique() and timestamp < @test_timepoint'\n",
    ")"
   ]
  },
  {
   "cell_type": "code",
   "execution_count": 7,
   "metadata": {
    "ExecuteTime": {
     "end_time": "2022-03-24T13:09:20.206416Z",
     "start_time": "2022-03-24T13:09:20.126404Z"
    },
    "id": "pn17mFYydSa5"
   },
   "outputs": [],
   "source": [
    "training, data_index = transform_indices(train_data_.copy(), 'userid', 'movieid')"
   ]
  },
  {
   "cell_type": "code",
   "execution_count": 8,
   "metadata": {
    "ExecuteTime": {
     "end_time": "2022-03-24T13:09:21.902084Z",
     "start_time": "2022-03-24T13:09:21.878079Z"
    },
    "colab": {
     "base_uri": "https://localhost:8080/"
    },
    "id": "u3kM-UzedSa6",
    "outputId": "11af7cc1-25ba-4edd-d49e-87f1b0c9bf3e"
   },
   "outputs": [
    {
     "name": "stdout",
     "output_type": "stream",
     "text": [
      "Filtered 113 invalid observations.\n"
     ]
    }
   ],
   "source": [
    "test_data = reindex(test_data_, data_index['items'])"
   ]
  },
  {
   "cell_type": "code",
   "execution_count": 9,
   "metadata": {
    "ExecuteTime": {
     "end_time": "2022-03-24T13:09:22.362088Z",
     "start_time": "2022-03-24T13:09:22.338138Z"
    },
    "colab": {
     "base_uri": "https://localhost:8080/"
    },
    "id": "hjSdcVU2dSa7",
    "outputId": "b01f3e22-f0ac-4862-9dfe-f5bf858f2f13"
   },
   "outputs": [
    {
     "data": {
      "text/plain": [
       "userid        1208\n",
       "movieid       3365\n",
       "rating           5\n",
       "timestamp    63322\n",
       "dtype: int64"
      ]
     },
     "execution_count": 9,
     "metadata": {},
     "output_type": "execute_result"
    }
   ],
   "source": [
    "test_data.nunique()"
   ]
  },
  {
   "cell_type": "code",
   "execution_count": 10,
   "metadata": {
    "ExecuteTime": {
     "end_time": "2022-03-24T13:09:23.164166Z",
     "start_time": "2022-03-24T13:09:23.040123Z"
    },
    "id": "EnubFCvjdSa8"
   },
   "outputs": [],
   "source": [
    "testset_, holdout_ = leave_one_out(\n",
    "    test_data, target='timestamp', sample_top=True, random_state=0\n",
    ")\n",
    "testset_valid_, holdout_valid_ = leave_one_out(\n",
    "    testset_, target='timestamp', sample_top=True, random_state=0\n",
    ")"
   ]
  },
  {
   "cell_type": "code",
   "execution_count": 11,
   "metadata": {
    "ExecuteTime": {
     "end_time": "2022-03-24T13:09:23.560115Z",
     "start_time": "2022-03-24T13:09:23.524141Z"
    },
    "id": "oDrUF7AsdSa9"
   },
   "outputs": [],
   "source": [
    "test_users = np.intersect1d(testset_valid_.userid.unique(), holdout_valid_.userid.unique())\n",
    "testset_valid = testset_valid_.query('userid in @test_users').sort_values('userid')\n",
    "holdout_valid = holdout_valid_.query('userid in @test_users').sort_values('userid')"
   ]
  },
  {
   "cell_type": "code",
   "execution_count": 12,
   "metadata": {
    "ExecuteTime": {
     "end_time": "2022-03-24T13:09:24.242357Z",
     "start_time": "2022-03-24T13:09:24.230344Z"
    },
    "colab": {
     "base_uri": "https://localhost:8080/"
    },
    "id": "ZAA5h-kOdSa-",
    "outputId": "84646466-e97f-47d6-9135-29f29f7c10af"
   },
   "outputs": [
    {
     "data": {
      "text/plain": [
       "userid        1137\n",
       "movieid       3357\n",
       "rating           5\n",
       "timestamp    61488\n",
       "dtype: int64"
      ]
     },
     "execution_count": 12,
     "metadata": {},
     "output_type": "execute_result"
    }
   ],
   "source": [
    "testset_valid.nunique()"
   ]
  },
  {
   "cell_type": "code",
   "execution_count": 13,
   "metadata": {
    "ExecuteTime": {
     "end_time": "2022-03-24T13:09:25.353710Z",
     "start_time": "2022-03-24T13:09:25.337710Z"
    },
    "id": "YX8R_0ZvdSbB"
   },
   "outputs": [],
   "source": [
    "assert holdout_valid.set_index('userid')['timestamp'].ge(\n",
    "    testset_valid\n",
    "    .groupby('userid')\n",
    "    ['timestamp'].max()\n",
    ").all()"
   ]
  },
  {
   "cell_type": "code",
   "execution_count": 14,
   "metadata": {
    "ExecuteTime": {
     "end_time": "2022-03-24T13:09:26.083053Z",
     "start_time": "2022-03-24T13:09:26.059046Z"
    },
    "id": "C0WAon5ZdSbC"
   },
   "outputs": [],
   "source": [
    "data_description = dict(\n",
    "    users = data_index['users'].name,\n",
    "    items = data_index['items'].name,\n",
    "    feedback = 'rating',\n",
    "    n_users = len(data_index['users']),\n",
    "    n_items = len(data_index['items']),\n",
    "    n_ratings = training['rating'].nunique(),\n",
    "    min_rating = training['rating'].min(),\n",
    "    test_users = holdout_valid[data_index['users'].name].drop_duplicates().values,\n",
    "    n_test_users = holdout_valid[data_index['users'].name].nunique()\n",
    ")"
   ]
  },
  {
   "cell_type": "code",
   "execution_count": 15,
   "metadata": {
    "ExecuteTime": {
     "end_time": "2022-03-24T13:09:26.860481Z",
     "start_time": "2022-03-24T13:09:26.852479Z"
    },
    "id": "nXnDXyWrdSbM"
   },
   "outputs": [],
   "source": [
    "def make_prediction(tf_scores, holdout_valid, data_description):\n",
    "    #print(\"3 + 4 + 5 - 2 - 1:\")\n",
    "    #print(\"3 + 4 + 5:\")\n",
    "    for n in [5, 10, 20]:\n",
    "        tf_recs = topn_recommendations(tf_scores, n)\n",
    "        hr, mrr, cov = model_evaluate(tf_recs, holdout_valid, data_description, topn=n)\n",
    "        print(f\"Validation : HR@{n} = {hr:.4f}, MRR@{n} == {mrr:.4f}, Coverage@{n} = {cov:.4f}\")"
   ]
  },
  {
   "cell_type": "code",
   "execution_count": 16,
   "metadata": {
    "ExecuteTime": {
     "end_time": "2022-03-24T13:09:27.705019Z",
     "start_time": "2022-03-24T13:09:27.697012Z"
    },
    "id": "60I1kLNp3UxG"
   },
   "outputs": [],
   "source": [
    "def valid_mlrank(mlrank):\n",
    "    '''\n",
    "    Only allow ranks that are suitable for truncated SVD computations\n",
    "    on unfolded compressed tensor (the result of ttm product in HOOI).\n",
    "    '''\n",
    "    r1, r2, r3 = mlrank\n",
    "    return r1*r2 > r3 and r1*r3 > r2 and r2*r3 > r1"
   ]
  },
  {
   "cell_type": "markdown",
   "metadata": {
    "id": "0sYJx_ORdSbN"
   },
   "source": [
    "# Sequential TF"
   ]
  },
  {
   "cell_type": "markdown",
   "metadata": {
    "id": "NIJjbpIPdSbO"
   },
   "source": [
    "## Preprocessing"
   ]
  },
  {
   "cell_type": "code",
   "execution_count": 17,
   "metadata": {
    "ExecuteTime": {
     "end_time": "2022-03-24T13:09:32.372192Z",
     "start_time": "2022-03-24T13:09:31.608184Z"
    },
    "id": "xohSSKrjdSbS"
   },
   "outputs": [],
   "source": [
    "n_pos = 200\n",
    "\n",
    "def assign_positions(s, maxlen=n_pos):\n",
    "    return np.arange(maxlen-len(s), maxlen)\n",
    "\n",
    "training_data = (\n",
    "    training\n",
    "    .sort_values('timestamp')\n",
    "    .assign(\n",
    "        pos = lambda df: df.groupby('userid')['movieid'].transform(assign_positions)\n",
    "    )\n",
    "    .sort_values(['userid', 'timestamp'])\n",
    "    .query('pos>=0')\n",
    ")\n",
    "\n",
    "testset_valid = (\n",
    "    testset_valid\n",
    "    .sort_values('timestamp')\n",
    "    .assign(\n",
    "        pos = lambda df: df.groupby('userid')['movieid'].transform(assign_positions)\n",
    "    )\n",
    "    .sort_values(['userid', 'timestamp'])\n",
    ")"
   ]
  },
  {
   "cell_type": "markdown",
   "metadata": {
    "id": "Eei-9LZldSbd"
   },
   "source": [
    "## Model"
   ]
  },
  {
   "cell_type": "code",
   "execution_count": 18,
   "metadata": {
    "ExecuteTime": {
     "end_time": "2022-03-24T13:09:32.961144Z",
     "start_time": "2022-03-24T13:09:32.945142Z"
    },
    "colab": {
     "base_uri": "https://localhost:8080/"
    },
    "id": "L0AsQy8LdSbe",
    "outputId": "56f76787-7956-4d79-96d9-fdceca1b6aed"
   },
   "outputs": [
    {
     "data": {
      "text/plain": [
       "{'users': 'userid',\n",
       " 'items': 'movieid',\n",
       " 'feedback': 'rating',\n",
       " 'n_users': 4831,\n",
       " 'n_items': 3635,\n",
       " 'n_ratings': 5,\n",
       " 'min_rating': 1,\n",
       " 'test_users': array([   1,    2,    3, ..., 6002, 6016, 6040], dtype=int64),\n",
       " 'n_test_users': 1137}"
      ]
     },
     "execution_count": 18,
     "metadata": {},
     "output_type": "execute_result"
    }
   ],
   "source": [
    "data_description_seq = dict(\n",
    "    users = data_index['users'].name,\n",
    "    items = data_index['items'].name,\n",
    "    feedback = 'rating',\n",
    "    positions = 'pos',\n",
    "    n_users = len(data_index['users']),\n",
    "    n_items = len(data_index['items']),\n",
    "    n_pos = n_pos\n",
    ")\n",
    "data_description"
   ]
  },
  {
   "cell_type": "code",
   "execution_count": 19,
   "metadata": {
    "ExecuteTime": {
     "end_time": "2022-03-24T13:09:34.955828Z",
     "start_time": "2022-03-24T13:09:34.943800Z"
    },
    "id": "mwkp3yq_dSbf"
   },
   "outputs": [],
   "source": [
    "def seqtf_model_build(config, data, data_description):\n",
    "    userid = data_description[\"users\"]\n",
    "    itemid = data_description[\"items\"]\n",
    "    positions = data_description[\"positions\"]\n",
    "\n",
    "    n_users = data_description[\"n_users\"]\n",
    "    n_items = data_description[\"n_items\"]\n",
    "    max_pos = data_description[\"n_pos\"]\n",
    "    shape = (n_users, n_items, max_pos)\n",
    "\n",
    "    attention_matrix = form_attention_matrix(\n",
    "        data_description[\"n_pos\"],\n",
    "        config[\"attention_decay\"],\n",
    "        format = 'csr'\n",
    "    )\n",
    "\n",
    "    item_popularity = (\n",
    "        data[itemid]\n",
    "        .value_counts(sort=False)\n",
    "        .reindex(range(n_items))\n",
    "        .fillna(1)\n",
    "        .values\n",
    "    )\n",
    "    scaling_weights = get_scaling_weights(item_popularity, scaling=config[\"scaling\"])\n",
    "\n",
    "    idx = data[[userid, itemid, positions]].values\n",
    "    val = np.ones(idx.shape[0], dtype='f8')\n",
    "\n",
    "    user_factors, item_factors, feedback_factors = sa_hooi(\n",
    "        idx, val, shape, config[\"mlrank\"],\n",
    "        attention_matrix = attention_matrix,\n",
    "        scaling_weights = scaling_weights,\n",
    "        max_iters = config[\"num_iters\"],\n",
    "        parallel_ttm = False,\n",
    "        randomized = config[\"randomized\"],\n",
    "        growth_tol = config[\"growth_tol\"],\n",
    "        seed = config[\"seed\"],\n",
    "        iter_callback = None,\n",
    "    )\n",
    "    return user_factors, item_factors, feedback_factors, attention_matrix\n"
   ]
  },
  {
   "cell_type": "code",
   "execution_count": 20,
   "metadata": {
    "ExecuteTime": {
     "end_time": "2022-03-24T13:09:35.737761Z",
     "start_time": "2022-03-24T13:09:35.729788Z"
    }
   },
   "outputs": [],
   "source": [
    "config = {\n",
    "    \"scaling\": 1,\n",
    "    \"mlrank\": (30, 30, 5),\n",
    "    \"n_pos\": n_pos,\n",
    "    \"num_iters\": 5,\n",
    "    \"attention_decay\": 1,\n",
    "    \"randomized\": True,\n",
    "    \"growth_tol\": 1e-4,\n",
    "    \"seed\": 42\n",
    "}"
   ]
  },
  {
   "cell_type": "code",
   "execution_count": 21,
   "metadata": {
    "ExecuteTime": {
     "end_time": "2022-03-24T13:09:36.456665Z",
     "start_time": "2022-03-24T13:09:36.436595Z"
    },
    "id": "m1mppqd1dSbl"
   },
   "outputs": [],
   "source": [
    "def tf_scoring(params, data, data_description):\n",
    "    user_factors, item_factors, pos_factors, attention_matrix = params\n",
    "    last_position_projector = generate_position_projector(attention_matrix, pos_factors)\n",
    "\n",
    "    userid = data_description[\"users\"]\n",
    "    itemid = data_description[\"items\"]\n",
    "    posid = data_description[\"positions\"]\n",
    "\n",
    "    tset_data = data.sort_values([userid, posid])\n",
    "    useridx = tset_data[userid].values\n",
    "    itemidx = tset_data[itemid].values\n",
    "    indptr, = np.where(np.diff(useridx, prepend=0, append=1))\n",
    "    scores = user_scoring(indptr, itemidx, item_factors, last_position_projector)\n",
    "    return scores\n",
    "\n",
    "def user_scoring(indptr, indices, item_factors, last_position_projector):\n",
    "    sequences = np.array_split(indices, indptr[1:-1])\n",
    "    n_items = item_factors.shape[0]\n",
    "    scores = np.zeros((len(sequences), n_items))\n",
    "    for u, seq in enumerate(sequences):\n",
    "        scores[u] = sequences_score(seq, item_factors, last_position_projector)\n",
    "    return scores\n",
    "\n",
    "def sequences_score(seq, item_factors, last_position_projector):\n",
    "    n_pos = len(last_position_projector)\n",
    "    user_profile = item_factors[seq[-(n_pos-1):], :]\n",
    "    n_items = user_profile.shape[0]\n",
    "    scores = item_factors @ (user_profile.T @ last_position_projector[-(n_items+1):-1])\n",
    "    return scores"
   ]
  },
  {
   "cell_type": "markdown",
   "metadata": {
    "id": "llcPe86X3TIq"
   },
   "source": [
    "## Tuning"
   ]
  },
  {
   "cell_type": "code",
   "execution_count": 24,
   "metadata": {
    "ExecuteTime": {
     "end_time": "2022-03-24T08:55:38.911869Z",
     "start_time": "2022-03-24T08:55:38.896867Z"
    },
    "id": "60I1kLNp3UxG"
   },
   "outputs": [],
   "source": [
    "tf_hyper = { # hyper-parameters dict for multi-linear rank\n",
    "    'r1': range(20, 80, 10),\n",
    "    'r2': range(20, 80, 10),\n",
    "    'r3': range(5, 40, 5),\n",
    "}\n",
    "\n",
    "grid, param_names = random_grid(tf_hyper, n=0)\n",
    "tf_grid = [tuple(mlrank) for mlrank in grid if valid_mlrank(mlrank)]"
   ]
  },
  {
   "cell_type": "code",
   "execution_count": null,
   "metadata": {
    "ExecuteTime": {
     "start_time": "2022-03-24T08:55:39.682Z"
    },
    "colab": {
     "base_uri": "https://localhost:8080/"
    },
    "id": "WvP5T_KT34To",
    "outputId": "a31f8613-0d73-434e-bfb0-bad61077f7cf"
   },
   "outputs": [
    {
     "data": {
      "application/vnd.jupyter.widget-view+json": {
       "model_id": "a6772103bca04ba189958ec59259b6aa",
       "version_major": 2,
       "version_minor": 0
      },
      "text/plain": [
       "  0%|          | 0/252 [00:00<?, ?it/s]"
      ]
     },
     "metadata": {},
     "output_type": "display_data"
    }
   ],
   "source": [
    "hr_tf = {}\n",
    "mrr_tf = {}\n",
    "cov_tf = {}\n",
    "for mlrank in tqdm(tf_grid):\n",
    "    with io.capture_output() as captured:\n",
    "        config['mlrank'] = mlrank\n",
    "        tf_params = seqtf_model_build(config, training_data, data_description)\n",
    "        tf_scores = tf_scoring(tf_params, testset_valid, data_description)\n",
    "        downvote_seen_items(tf_scores, testset_valid, data_description)\n",
    "        tf_recs = topn_recommendations(tf_scores, topn=10) # comlete the code\n",
    "        hr, mrr, cov = model_evaluate(tf_recs, holdout_valid, data_description, topn=10)\n",
    "        #hr, mrr, cov = evaluate(tf_recs, valid_holdout, data_description)\n",
    "        hr_tf[mlrank] = hr\n",
    "        mrr_tf[mlrank] = mrr\n",
    "        cov_tf[mlrank] = cov"
   ]
  },
  {
   "cell_type": "code",
   "execution_count": null,
   "metadata": {
    "ExecuteTime": {
     "end_time": "2022-03-24T08:55:13.143896Z",
     "start_time": "2022-03-24T08:55:13.123903Z"
    },
    "colab": {
     "base_uri": "https://localhost:8080/"
    },
    "id": "CgyalR0S7sTV",
    "outputId": "0d9eb1e8-5afb-4ea1-d567-8994f9760028"
   },
   "outputs": [],
   "source": [
    "print(f'Best HR={pd.Series(hr_tf).max():.4f} achieved with mlrank={pd.Series(hr_tf).idxmax()}')\n",
    "print(f'Best MRR={pd.Series(mrr_tf).max():.4f} achieved with mlrank={pd.Series(mrr_tf).idxmax()}')\n",
    "print(f'COV={pd.Series(cov_tf)[pd.Series(hr_tf).idxmax()]:.4f} (based on best HR value)')"
   ]
  },
  {
   "cell_type": "code",
   "execution_count": null,
   "metadata": {
    "colab": {
     "base_uri": "https://localhost:8080/"
    },
    "id": "VdqrbxoL4a32",
    "outputId": "7007f87e-246e-4ada-bdf8-e2fe836e0050"
   },
   "outputs": [],
   "source": [
    "print(f'COV={pd.Series(cov_tf)[pd.Series(hr_tf).idxmax()]:.4f} (based on best HR value)')"
   ]
  },
  {
   "cell_type": "markdown",
   "metadata": {
    "id": "EW7SFRIqqle7"
   },
   "source": [
    "# Random Model"
   ]
  },
  {
   "cell_type": "code",
   "execution_count": 22,
   "metadata": {
    "ExecuteTime": {
     "end_time": "2022-03-24T13:10:01.106866Z",
     "start_time": "2022-03-24T13:10:01.098889Z"
    },
    "id": "KMEOnT4sqoTq"
   },
   "outputs": [],
   "source": [
    "def build_random_model(trainset, trainset_description):\n",
    "    itemid = trainset_description['items']\n",
    "    n_items = trainset[itemid].max() + 1\n",
    "    random_state = np.random.RandomState(42)\n",
    "    return n_items, random_state\n",
    "\n",
    "def random_model_scoring(params, testset, testset_description):\n",
    "    n_items, random_state = params\n",
    "    n_users = testset_description['n_test_users']\n",
    "    scores = random_state.rand(n_users, n_items)\n",
    "    return scores\n",
    "\n",
    "def simple_model_recom_func(scores, topn=20):\n",
    "    recommendations = np.apply_along_axis(topidx, 1, scores, topn)\n",
    "    return recommendations\n",
    "\n",
    "def topidx(a, topn):\n",
    "    parted = np.argpartition(a, -topn)[-topn:]\n",
    "    return parted[np.argsort(-a[parted])]"
   ]
  },
  {
   "cell_type": "markdown",
   "metadata": {
    "id": "LQaaMX1erOcc"
   },
   "source": [
    "# Popularity-based model"
   ]
  },
  {
   "cell_type": "code",
   "execution_count": 23,
   "metadata": {
    "ExecuteTime": {
     "end_time": "2022-03-24T13:10:01.662865Z",
     "start_time": "2022-03-24T13:10:01.655006Z"
    },
    "id": "oI3UZ4KMrR4i"
   },
   "outputs": [],
   "source": [
    "def build_popularity_model(trainset, trainset_description):\n",
    "    itemid = trainset_description['items']\n",
    "    item_popularity = trainset[itemid].value_counts()\n",
    "    return item_popularity\n",
    "\n",
    "def popularity_model_scoring(params, testset, testset_description):\n",
    "    item_popularity = params\n",
    "    n_items = item_popularity.index.max() + 1\n",
    "    n_users = testset_description['n_test_users']\n",
    "    # fill in popularity scores for each item with indices from 0 to n_items-1\n",
    "    popularity_scores = np.zeros(n_items,)\n",
    "    popularity_scores[item_popularity.index] = item_popularity.values\n",
    "    # same scores for each test user\n",
    "    scores = np.tile(popularity_scores, n_users).reshape(n_users, n_items)\n",
    "    return scores"
   ]
  },
  {
   "cell_type": "markdown",
   "metadata": {
    "id": "-c7NJyjoxbVF"
   },
   "source": [
    "# PureSVD"
   ]
  },
  {
   "cell_type": "code",
   "execution_count": 24,
   "metadata": {
    "ExecuteTime": {
     "end_time": "2022-03-24T13:10:02.505453Z",
     "start_time": "2022-03-24T13:10:02.489452Z"
    },
    "colab": {
     "base_uri": "https://localhost:8080/"
    },
    "id": "qHfx8WVYvJsQ",
    "outputId": "8791e807-11c9-41a1-c3a9-7b68cf85822d"
   },
   "outputs": [],
   "source": [
    "def matrix_from_observations(data, data_description):\n",
    "    useridx = data[data_description['users']]\n",
    "    itemidx = data[data_description['items']]\n",
    "    values = data[data_description['feedback']]\n",
    "    return csr_matrix((values, (useridx, itemidx)), dtype='f8')\n",
    "\n",
    "\n",
    "def build_svd_model(config, data, data_description):\n",
    "    source_matrix = matrix_from_observations(data, data_description)\n",
    "    D = norm(source_matrix, axis=0)\n",
    "    A = source_matrix.dot(diags(D**(config['f']-1)))\n",
    "    _, _, vt = svds(A, k=config['rank'], return_singular_vectors='vh')\n",
    "#     singular_values = s[::-1]\n",
    "    item_factors = np.ascontiguousarray(vt[::-1, :].T)\n",
    "    return item_factors\n",
    "\n",
    "def svd_model_scoring(params, data, data_description):\n",
    "    item_factors = params\n",
    "    test_data = data.assign(\n",
    "        userid = pd.factorize(data['userid'])[0]\n",
    "    )\n",
    "    test_matrix = matrix_from_observations(test_data, data_description)\n",
    "    scores = test_matrix.dot(item_factors) @ item_factors.T\n",
    "    return scores"
   ]
  },
  {
   "cell_type": "markdown",
   "metadata": {
    "id": "RkKi34mwyWUo"
   },
   "source": [
    "## Tuning"
   ]
  },
  {
   "cell_type": "code",
   "execution_count": 76,
   "metadata": {
    "ExecuteTime": {
     "end_time": "2022-03-24T10:15:25.329453Z",
     "start_time": "2022-03-24T10:15:25.314464Z"
    }
   },
   "outputs": [],
   "source": [
    "rank_grid = np.arange(20, 300, 10)\n",
    "f_grid = np.linspace(-2, 2, 21)"
   ]
  },
  {
   "cell_type": "code",
   "execution_count": 79,
   "metadata": {
    "ExecuteTime": {
     "end_time": "2022-03-24T10:38:55.267179Z",
     "start_time": "2022-03-24T10:18:22.838941Z"
    }
   },
   "outputs": [
    {
     "data": {
      "application/vnd.jupyter.widget-view+json": {
       "model_id": "7f907dcf5c824b7c86eaceb2774de855",
       "version_major": 2,
       "version_minor": 0
      },
      "text/plain": [
       "  0%|          | 0/588 [00:00<?, ?it/s]"
      ]
     },
     "metadata": {},
     "output_type": "display_data"
    }
   ],
   "source": [
    "hr_tf = {}\n",
    "mrr_tf = {}\n",
    "cov_tf = {}\n",
    "grid = list(zip(np.meshgrid(rank_grid, f_grid)[0].flatten(), np.meshgrid(rank_grid, f_grid)[1].flatten()))\n",
    "for params in tqdm(grid):\n",
    "    r, f = params\n",
    "    svd_config = {'rank': int(r), 'f': f}\n",
    "    svd_params = build_svd_model(svd_config, training, data_description)\n",
    "    svd_scores = svd_model_scoring(svd_params, testset_valid, data_description)\n",
    "    downvote_seen_items(svd_scores, testset_valid, data_description)\n",
    "    svd_recs = topn_recommendations(svd_scores, topn=10)\n",
    "    hr, mrr, cov = model_evaluate(svd_recs, holdout_valid, data_description, topn=10)\n",
    "    hr_tf[f'r={r}, f={f:.2f}'] = hr\n",
    "    mrr_tf[f'r={r}, f={f:.2f}'] = mrr\n",
    "    cov_tf[f'r={r}, f={f:.2f}'] = cov"
   ]
  },
  {
   "cell_type": "code",
   "execution_count": 80,
   "metadata": {
    "ExecuteTime": {
     "end_time": "2022-03-24T10:40:21.195015Z",
     "start_time": "2022-03-24T10:40:21.183996Z"
    }
   },
   "outputs": [
    {
     "name": "stdout",
     "output_type": "stream",
     "text": [
      "r=230, f=0.80 0.10026385224274406\n",
      "r=290, f=0.40 0.09762532981530343\n",
      "r=120, f=1.00 0.09762532981530343\n",
      "r=220, f=0.40 0.09674582233948989\n",
      "r=230, f=0.40 0.09674582233948989\n",
      "r=250, f=0.40 0.09674582233948989\n",
      "r=170, f=0.60 0.09674582233948989\n",
      "r=240, f=0.60 0.09674582233948989\n",
      "r=250, f=0.60 0.09674582233948989\n",
      "r=120, f=1.20 0.09674582233948989\n"
     ]
    }
   ],
   "source": [
    "hr_sorted = sorted(hr_tf, key=hr_tf.get, reverse=True)\n",
    "for i in range(10):\n",
    "    print(hr_sorted[i], hr_tf[hr_sorted[i]])"
   ]
  },
  {
   "cell_type": "code",
   "execution_count": 83,
   "metadata": {
    "ExecuteTime": {
     "end_time": "2022-03-24T10:43:48.278788Z",
     "start_time": "2022-03-24T10:43:48.266777Z"
    }
   },
   "outputs": [
    {
     "name": "stdout",
     "output_type": "stream",
     "text": [
      "r=200, f=0.80 0.03967172034454357\n",
      "r=230, f=0.60 0.039258491435272436\n",
      "r=280, f=0.80 0.039107718725132974\n",
      "r=280, f=0.60 0.03910353059429578\n",
      "r=290, f=0.60 0.03900231743239659\n",
      "r=250, f=0.80 0.038775809356284295\n",
      "r=220, f=0.60 0.03843308064943949\n",
      "r=230, f=0.80 0.03839119934106742\n",
      "r=170, f=0.40 0.03828544903742793\n",
      "r=290, f=0.80 0.03825543409976129\n"
     ]
    }
   ],
   "source": [
    "mrr_sorted = sorted(mrr_tf, key=mrr_tf.get, reverse=True)\n",
    "for i in range(10):\n",
    "    print(mrr_sorted[i], mrr_tf[mrr_sorted[i]])"
   ]
  },
  {
   "cell_type": "code",
   "execution_count": 82,
   "metadata": {
    "ExecuteTime": {
     "end_time": "2022-03-24T10:40:42.540415Z",
     "start_time": "2022-03-24T10:40:42.522418Z"
    }
   },
   "outputs": [
    {
     "name": "stdout",
     "output_type": "stream",
     "text": [
      "r=290, f=-0.40 0.5026134800550206\n",
      "r=280, f=-0.40 0.49793672627235214\n",
      "r=280, f=-0.20 0.4968363136176066\n",
      "r=290, f=-0.20 0.49436038514442915\n",
      "r=270, f=-0.40 0.49353507565337\n",
      "r=270, f=-0.20 0.4921595598349381\n",
      "r=260, f=-0.20 0.4905089408528198\n",
      "r=240, f=-0.20 0.48830811554332876\n",
      "r=250, f=-0.20 0.48830811554332876\n",
      "r=260, f=-0.40 0.48775790921595596\n"
     ]
    }
   ],
   "source": [
    "cov_sorted = sorted(cov_tf, key=cov_tf.get, reverse=True)\n",
    "for i in range(10):\n",
    "    print(cov_sorted[i], cov_tf[cov_sorted[i]])"
   ]
  },
  {
   "cell_type": "markdown",
   "metadata": {},
   "source": [
    "# Test metrics"
   ]
  },
  {
   "cell_type": "code",
   "execution_count": 25,
   "metadata": {
    "ExecuteTime": {
     "end_time": "2022-03-24T13:10:15.916852Z",
     "start_time": "2022-03-24T13:10:15.904820Z"
    }
   },
   "outputs": [],
   "source": [
    "def model_evaluate(recommended_items, holdout, holdout_description, alpha=3, topn=10):\n",
    "    itemid = holdout_description['items']\n",
    "    rateid = holdout_description['feedback']\n",
    "    holdout_items = holdout[itemid].values\n",
    "    assert recommended_items.shape[0] == len(holdout_items)\n",
    "    hits_mask = recommended_items[:, :topn] == holdout_items.reshape(-1, 1)\n",
    "    # HR calculation\n",
    "    hr = np.mean(hits_mask.any(axis=1))\n",
    "    # MRR calculation\n",
    "    n_test_users = recommended_items.shape[0]\n",
    "    hit_rank = np.where(hits_mask)[1] + 1.0\n",
    "    mrr = np.sum(1 / hit_rank) / n_test_users\n",
    "    # DCG calculation\n",
    "    pos_mask = (holdout[rateid] >= alpha).values\n",
    "    neg_mask = (holdout[rateid] < alpha).values\n",
    "    pos_hit_rank = np.where(hits_mask[pos_mask])[1] + 1.0\n",
    "    neg_hit_rank = np.where(hits_mask[neg_mask])[1] + 1.0\n",
    "    ndcg = np.mean(1 / np.log2(pos_hit_rank+1))\n",
    "    ndcl = np.mean(1 / np.log2(neg_hit_rank+1))\n",
    "    # coverage calculation\n",
    "    n_items = holdout_description['n_items']\n",
    "    cov = np.unique(recommended_items).size / n_items\n",
    "    return hr, mrr, cov, ndcg, ndcl"
   ]
  },
  {
   "cell_type": "code",
   "execution_count": 26,
   "metadata": {
    "ExecuteTime": {
     "end_time": "2022-03-24T13:10:16.849820Z",
     "start_time": "2022-03-24T13:10:16.837790Z"
    }
   },
   "outputs": [],
   "source": [
    "def make_prediction(tf_scores, holdout_valid, data_description):\n",
    "    for n in [5, 10, 20]:\n",
    "        tf_recs = topn_recommendations(tf_scores, n)\n",
    "        hr, mrr, cov, dcg, dcl = model_evaluate(tf_recs, holdout_valid, data_description, topn=n)\n",
    "        print(f\"Test : HR@{n} = {hr:.4f}, MRR@{n} = {mrr:.4f}, Coverage@{n} = {cov:.4f}, nDCG@{n} = {dcg}, nDCL@{n} = {dcl}\")"
   ]
  },
  {
   "cell_type": "code",
   "execution_count": 27,
   "metadata": {
    "ExecuteTime": {
     "end_time": "2022-03-24T13:10:17.591229Z",
     "start_time": "2022-03-24T13:10:17.563222Z"
    }
   },
   "outputs": [],
   "source": [
    "test_users = np.intersect1d(testset_.userid.unique(), holdout_.userid.unique())\n",
    "testset = testset_.query('userid in @test_users').sort_values('userid')\n",
    "holdout = holdout_.query('userid in @test_users').sort_values('userid')"
   ]
  },
  {
   "cell_type": "code",
   "execution_count": 28,
   "metadata": {
    "ExecuteTime": {
     "end_time": "2022-03-24T13:10:18.268188Z",
     "start_time": "2022-03-24T13:10:18.252191Z"
    }
   },
   "outputs": [],
   "source": [
    "data_description = dict(\n",
    "    users = data_index['users'].name,\n",
    "    items = data_index['items'].name,\n",
    "    feedback = 'rating',\n",
    "    n_users = len(data_index['users']),\n",
    "    n_items = len(data_index['items']),\n",
    "    n_ratings = training['rating'].nunique(),\n",
    "    min_rating = training['rating'].min(),\n",
    "    test_users = holdout[data_index['users'].name].drop_duplicates().values,\n",
    "    n_test_users = holdout[data_index['users'].name].nunique()\n",
    ")"
   ]
  },
  {
   "cell_type": "markdown",
   "metadata": {},
   "source": [
    "## Random model"
   ]
  },
  {
   "cell_type": "code",
   "execution_count": 30,
   "metadata": {
    "ExecuteTime": {
     "end_time": "2022-03-24T13:10:24.730294Z",
     "start_time": "2022-03-24T13:10:24.554287Z"
    }
   },
   "outputs": [
    {
     "name": "stdout",
     "output_type": "stream",
     "text": [
      "Test : HR@5 = 0.0009, MRR@5 = 0.0004, Coverage@5 = 0.7948, nDCG@5 = 0.6309297535714575, nDCL@5 = nan\n",
      "Test : HR@10 = 0.0017, MRR@10 = 0.0005, Coverage@10 = 0.9585, nDCG@10 = 0.4599972899446727, nDCL@10 = nan\n",
      "Test : HR@20 = 0.0068, MRR@20 = 0.0009, Coverage@20 = 0.9983, nDCG@20 = 0.32322642650610806, nDCL@20 = 0.2550253104977256\n"
     ]
    },
    {
     "name": "stderr",
     "output_type": "stream",
     "text": [
      "C:\\Users\\Liza\\anaconda3\\lib\\site-packages\\numpy\\core\\fromnumeric.py:3440: RuntimeWarning: Mean of empty slice.\n",
      "  return _methods._mean(a, axis=axis, dtype=dtype,\n",
      "C:\\Users\\Liza\\anaconda3\\lib\\site-packages\\numpy\\core\\_methods.py:189: RuntimeWarning: invalid value encountered in double_scalars\n",
      "  ret = ret.dtype.type(ret / rcount)\n"
     ]
    }
   ],
   "source": [
    "rnd_params = build_random_model(training, data_description)\n",
    "rnd_scores = random_model_scoring(rnd_params, None, data_description)\n",
    "downvote_seen_items(rnd_scores, testset, data_description)\n",
    "\n",
    "make_prediction(rnd_scores, holdout, data_description)"
   ]
  },
  {
   "cell_type": "markdown",
   "metadata": {},
   "source": [
    "## Popularity-based model"
   ]
  },
  {
   "cell_type": "code",
   "execution_count": 31,
   "metadata": {
    "ExecuteTime": {
     "end_time": "2022-03-24T13:10:26.354622Z",
     "start_time": "2022-03-24T13:10:26.314578Z"
    }
   },
   "outputs": [],
   "source": [
    "pop_params = build_popularity_model(training, data_description)\n",
    "pop_scores = popularity_model_scoring(pop_params, None, data_description)\n",
    "downvote_seen_items(pop_scores, testset, data_description)"
   ]
  },
  {
   "cell_type": "code",
   "execution_count": 32,
   "metadata": {
    "ExecuteTime": {
     "end_time": "2022-03-24T13:10:26.750578Z",
     "start_time": "2022-03-24T13:10:26.626578Z"
    }
   },
   "outputs": [
    {
     "name": "stdout",
     "output_type": "stream",
     "text": [
      "Test : HR@5 = 0.0051, MRR@5 = 0.0034, Coverage@5 = 0.0099, nDCG@5 = 0.8, nDCL@5 = 0.43067655807339306\n",
      "Test : HR@10 = 0.0111, MRR@10 = 0.0041, Coverage@10 = 0.0165, nDCG@10 = 0.5161361678203137, nDCL@10 = 0.43067655807339306\n",
      "Test : HR@20 = 0.0291, MRR@20 = 0.0053, Coverage@20 = 0.0292, nDCG@20 = 0.35043323231744705, nDCL@20 = 0.3504573562503564\n"
     ]
    }
   ],
   "source": [
    "make_prediction(pop_scores, holdout, data_description)"
   ]
  },
  {
   "cell_type": "markdown",
   "metadata": {},
   "source": [
    "## PureSVD"
   ]
  },
  {
   "cell_type": "code",
   "execution_count": 33,
   "metadata": {
    "ExecuteTime": {
     "end_time": "2022-03-24T13:10:32.147590Z",
     "start_time": "2022-03-24T13:10:29.835592Z"
    }
   },
   "outputs": [
    {
     "name": "stdout",
     "output_type": "stream",
     "text": [
      "Test : HR@5 = 0.0522, MRR@5 = 0.0271, Coverage@5 = 0.2006, nDCG@5 = 0.6309242785123235, nDCL@5 = 0.681057389859924\n",
      "Test : HR@10 = 0.0753, MRR@10 = 0.0302, Coverage@10 = 0.2644, nDCG@10 = 0.5427472913702939, nDCL@10 = 0.5321384513866659\n",
      "Test : HR@20 = 0.1241, MRR@20 = 0.0335, Coverage@20 = 0.3403, nDCG@20 = 0.426638518802019, nDCL@20 = 0.4278542521468115\n"
     ]
    }
   ],
   "source": [
    "svd_config = {'rank': 200, 'f': 0.8}\n",
    "svd_params = build_svd_model(svd_config, training, data_description)\n",
    "svd_scores = svd_model_scoring(svd_params, testset, data_description)\n",
    "downvote_seen_items(svd_scores, testset, data_description)\n",
    "\n",
    "make_prediction(svd_scores, holdout, data_description)"
   ]
  },
  {
   "cell_type": "markdown",
   "metadata": {},
   "source": [
    "## SeqTF"
   ]
  },
  {
   "cell_type": "code",
   "execution_count": 34,
   "metadata": {
    "ExecuteTime": {
     "end_time": "2022-03-24T13:10:33.875979Z",
     "start_time": "2022-03-24T13:10:33.759939Z"
    }
   },
   "outputs": [],
   "source": [
    "testset = (\n",
    "    testset\n",
    "    .sort_values('timestamp')\n",
    "    .assign(\n",
    "        pos = lambda df: df.groupby('userid')['movieid'].transform(assign_positions)\n",
    "    )\n",
    "    .sort_values(['userid', 'timestamp'])\n",
    ")"
   ]
  },
  {
   "cell_type": "code",
   "execution_count": 35,
   "metadata": {
    "ExecuteTime": {
     "end_time": "2022-03-24T13:10:35.058882Z",
     "start_time": "2022-03-24T13:10:35.050879Z"
    }
   },
   "outputs": [
    {
     "data": {
      "text/plain": [
       "{'users': 'userid',\n",
       " 'items': 'movieid',\n",
       " 'feedback': 'rating',\n",
       " 'n_users': 4831,\n",
       " 'n_items': 3635,\n",
       " 'n_ratings': 5,\n",
       " 'min_rating': 1,\n",
       " 'test_users': array([   1,    2,    3, ..., 6002, 6016, 6040], dtype=int64),\n",
       " 'n_test_users': 1168}"
      ]
     },
     "execution_count": 35,
     "metadata": {},
     "output_type": "execute_result"
    }
   ],
   "source": [
    "data_description_seq = dict(\n",
    "    users = data_index['users'].name,\n",
    "    items = data_index['items'].name,\n",
    "    feedback = 'rating',\n",
    "    positions = 'pos',\n",
    "    n_users = len(data_index['users']),\n",
    "    n_items = len(data_index['items']),\n",
    "    n_pos = n_pos,\n",
    "    test_users = holdout[data_index['users'].name].drop_duplicates().values,\n",
    "    n_test_users = holdout[data_index['users'].name].nunique()\n",
    ")\n",
    "data_description"
   ]
  },
  {
   "cell_type": "code",
   "execution_count": 36,
   "metadata": {
    "ExecuteTime": {
     "end_time": "2022-03-24T13:10:36.250428Z",
     "start_time": "2022-03-24T13:10:36.242428Z"
    }
   },
   "outputs": [
    {
     "data": {
      "text/plain": [
       "{'scaling': 1,\n",
       " 'mlrank': (30, 70, 5),\n",
       " 'n_pos': 200,\n",
       " 'num_iters': 5,\n",
       " 'attention_decay': 1,\n",
       " 'randomized': True,\n",
       " 'growth_tol': 0.0001,\n",
       " 'seed': 42}"
      ]
     },
     "execution_count": 36,
     "metadata": {},
     "output_type": "execute_result"
    }
   ],
   "source": [
    "config['mlrank'] = (30, 70, 5)\n",
    "config"
   ]
  },
  {
   "cell_type": "code",
   "execution_count": 37,
   "metadata": {
    "ExecuteTime": {
     "end_time": "2022-03-24T13:10:43.018843Z",
     "start_time": "2022-03-24T13:10:36.954848Z"
    }
   },
   "outputs": [
    {
     "name": "stdout",
     "output_type": "stream",
     "text": [
      "growth of the core: 1.0\n",
      "growth of the core: 0.3032713941930027\n",
      "growth of the core: 0.04349301012106686\n",
      "growth of the core: 0.00561007448836323\n",
      "growth of the core: 0.0017265875391681215\n",
      "Test : HR@5 = 0.0479, MRR@5 = 0.0264, Coverage@5 = 0.1615, nDCG@5 = 0.6668021542037992, nDCL@5 = 0.6262581788155304\n",
      "Test : HR@10 = 0.0822, MRR@10 = 0.0308, Coverage@10 = 0.2182, nDCG@10 = 0.5295437826196445, nDCL@10 = 0.46811407420090356\n",
      "Test : HR@20 = 0.1293, MRR@20 = 0.0341, Coverage@20 = 0.2933, nDCG@20 = 0.4327447755392594, nDCL@20 = 0.37725236118946887\n"
     ]
    },
    {
     "name": "stderr",
     "output_type": "stream",
     "text": [
      "C:\\Users\\Liza\\anaconda3\\lib\\site-packages\\scipy\\sparse\\coo.py:431: SparseEfficiencyWarning: Constructing a DIA matrix with 200 diagonals is inefficient\n",
      "  warn(\"Constructing a DIA matrix with %d diagonals \"\n"
     ]
    }
   ],
   "source": [
    "tf_params = seqtf_model_build(config, training_data, data_description_seq)\n",
    "tf_scores = tf_scoring(tf_params, testset, data_description_seq)\n",
    "downvote_seen_items(tf_scores, testset, data_description_seq)\n",
    "\n",
    "make_prediction(tf_scores, holdout, data_description_seq)"
   ]
  }
 ],
 "metadata": {
  "colab": {
   "collapsed_sections": [],
   "name": "CoFFeeProject.ipynb",
   "provenance": []
  },
  "interpreter": {
   "hash": "009c838d92940ae6fa3c0eca0f0908a58be7fe030119f0cd30e204cb459dcff7"
  },
  "kernelspec": {
   "display_name": "firstEnv",
   "language": "python",
   "name": "firstenv"
  },
  "language_info": {
   "codemirror_mode": {
    "name": "ipython",
    "version": 3
   },
   "file_extension": ".py",
   "mimetype": "text/x-python",
   "name": "python",
   "nbconvert_exporter": "python",
   "pygments_lexer": "ipython3",
   "version": "3.8.8"
  },
  "toc": {
   "base_numbering": 1,
   "nav_menu": {},
   "number_sections": true,
   "sideBar": true,
   "skip_h1_title": false,
   "title_cell": "Table of Contents",
   "title_sidebar": "Contents",
   "toc_cell": false,
   "toc_position": {
    "height": "calc(100% - 180px)",
    "left": "10px",
    "top": "150px",
    "width": "341.306px"
   },
   "toc_section_display": true,
   "toc_window_display": true
  },
  "varInspector": {
   "cols": {
    "lenName": 16,
    "lenType": 16,
    "lenVar": 40
   },
   "kernels_config": {
    "python": {
     "delete_cmd_postfix": "",
     "delete_cmd_prefix": "del ",
     "library": "var_list.py",
     "varRefreshCmd": "print(var_dic_list())"
    },
    "r": {
     "delete_cmd_postfix": ") ",
     "delete_cmd_prefix": "rm(",
     "library": "var_list.r",
     "varRefreshCmd": "cat(var_dic_list()) "
    }
   },
   "types_to_exclude": [
    "module",
    "function",
    "builtin_function_or_method",
    "instance",
    "_Feature"
   ],
   "window_display": false
  }
 },
 "nbformat": 4,
 "nbformat_minor": 1
}
